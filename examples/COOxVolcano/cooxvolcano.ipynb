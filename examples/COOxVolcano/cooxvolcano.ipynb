{
 "cells": [
  {
   "cell_type": "markdown",
   "metadata": {},
   "source": [
    "# CO oxidation volcano"
   ]
  },
  {
   "cell_type": "markdown",
   "metadata": {},
   "source": [
    "## Load input file"
   ]
  },
  {
   "cell_type": "code",
   "execution_count": 1,
   "metadata": {},
   "outputs": [
    {
     "name": "stdout",
     "output_type": "stream",
     "text": [
      "Loading input file: input.json.\n",
      "Reading states:\n",
      "* s\n",
      "* sCO\n",
      "* sO\n",
      "* CO\n",
      "* O2\n",
      "* CO2\n",
      "Reading scaling relation states:\n",
      "* SRTS_ox\n",
      "* SRTS_O2\n",
      "* sO2\n",
      "Reading system:\n",
      "* Pressure: 100000 Pa\n",
      "* Temperature: 600 K\n",
      "Reading reactions:\n",
      "* O2_ads\n",
      "* CO_ox\n",
      "* O2_2O\n",
      "* CO_ads\n",
      "* 2O_ads\n",
      "Reading reactor:\n",
      "* InfiniteDilutionReactor\n",
      "Done.\n"
     ]
    }
   ],
   "source": [
    "from pycatkin.functions.load_input import read_from_input_file\n",
    "\n",
    "sim_system = read_from_input_file()\n"
   ]
  },
  {
   "cell_type": "markdown",
   "metadata": {},
   "source": [
    "## Define a range of binding energies"
   ]
  },
  {
   "cell_type": "code",
   "execution_count": 2,
   "metadata": {},
   "outputs": [],
   "source": [
    "import numpy as np\n",
    "\n",
    "be = np.linspace(start=-2.5, stop=0.5, num=10, endpoint=True)\n"
   ]
  },
  {
   "cell_type": "markdown",
   "metadata": {},
   "source": [
    "## Define the standard entropies (taken from Atkins, in eV/K)"
   ]
  },
  {
   "cell_type": "code",
   "execution_count": 3,
   "metadata": {},
   "outputs": [],
   "source": [
    "SCOg = 2.0487e-3\n",
    "SO2g = 2.1261e-3\n"
   ]
  },
  {
   "cell_type": "markdown",
   "metadata": {},
   "source": [
    "## Compute and save the activity"
   ]
  },
  {
   "cell_type": "code",
   "execution_count": 4,
   "metadata": {},
   "outputs": [
    {
     "name": "stdout",
     "output_type": "stream",
     "text": [
      "* Binding energy of CO is -2.50, binding energy of O is -2.50\n",
      "* Binding energy of CO is -2.50, binding energy of O is -1.75\n",
      "* Binding energy of CO is -2.50, binding energy of O is -1.00\n",
      "* Binding energy of CO is -2.50, binding energy of O is -0.25\n",
      "* Binding energy of CO is -2.50, binding energy of O is 0.50\n",
      "* Binding energy of CO is -1.75, binding energy of O is -2.50\n",
      "* Binding energy of CO is -1.75, binding energy of O is -1.75\n",
      "* Binding energy of CO is -1.75, binding energy of O is -1.00\n",
      "* Binding energy of CO is -1.75, binding energy of O is -0.25\n",
      "* Binding energy of CO is -1.75, binding energy of O is 0.50\n",
      "* Binding energy of CO is -1.00, binding energy of O is -2.50\n",
      "* Binding energy of CO is -1.00, binding energy of O is -1.75\n",
      "* Binding energy of CO is -1.00, binding energy of O is -1.00\n",
      "* Binding energy of CO is -1.00, binding energy of O is -0.25\n",
      "* Binding energy of CO is -1.00, binding energy of O is 0.50\n",
      "* Binding energy of CO is -0.25, binding energy of O is -2.50\n",
      "* Binding energy of CO is -0.25, binding energy of O is -1.75\n",
      "* Binding energy of CO is -0.25, binding energy of O is -1.00\n",
      "* Binding energy of CO is -0.25, binding energy of O is -0.25\n",
      "* Binding energy of CO is -0.25, binding energy of O is 0.50\n",
      "* Binding energy of CO is 0.50, binding energy of O is -2.50\n",
      "* Binding energy of CO is 0.50, binding energy of O is -1.75\n",
      "* Binding energy of CO is 0.50, binding energy of O is -1.00\n",
      "* Binding energy of CO is 0.50, binding energy of O is -0.25\n",
      "* Binding energy of CO is 0.50, binding energy of O is 0.50\n"
     ]
    }
   ],
   "source": [
    "\n",
    "activity = np.zeros((len(be), len(be)))\n",
    "\n",
    "for iCO, bCO in enumerate(be):\n",
    "    for iO, bO in enumerate(be):\n",
    "        \n",
    "        print('* Binding energy of CO is %1.2f, binding energy of O is %1.2f' % (bCO, bO))\n",
    "\n",
    "        # (a) Set CO adsorption energy and entropy\n",
    "        sim_system.reactions['CO_ads'].dErxn_user = bCO\n",
    "        sim_system.reactions['CO_ads'].dGrxn_user = bCO + SCOg * sim_system.params['temperature']\n",
    "\n",
    "        # (b) Set O adsorption energy and entropy\n",
    "        sim_system.reactions['2O_ads'].dErxn_user = 2.0 * bO\n",
    "        sim_system.reactions['2O_ads'].dGrxn_user = 2.0 * bO + SO2g * sim_system.params['temperature']\n",
    "\n",
    "        # (c) Add adsorption entropy change for gases\n",
    "        sim_system.states['sO2'].set_energy_modifier(modifier=SO2g * sim_system.params['temperature'])\n",
    "        sim_system.states['SRTS_O2'].set_energy_modifier(modifier=SO2g * sim_system.params['temperature'])\n",
    "        sim_system.states['SRTS_ox'].set_energy_modifier(modifier=(0.5 * SO2g * sim_system.params['temperature'] +\n",
    "                                                                   SCOg * sim_system.params['temperature']))\n",
    "\n",
    "        # (d) Set O2 adsorption free energy\n",
    "        sim_system.reactions['O2_ads'].dGrxn_user = sim_system.states['sO2'].get_free_energy(\n",
    "            T=sim_system.params['temperature'],\n",
    "            p=sim_system.params['pressure'])\n",
    "\n",
    "        # (e) Set CO oxidation free energy barrier\n",
    "        sim_system.reactions['CO_ox'].dGa_fwd_user = sim_system.states['SRTS_ox'].get_free_energy(\n",
    "            T=sim_system.params['temperature'],\n",
    "            p=sim_system.params['pressure']) - (sim_system.reactions['CO_ads'].dGrxn_user +\n",
    "                                                0.5 * sim_system.reactions['2O_ads'].dGrxn_user)\n",
    "\n",
    "        # (f) Set O2 dissociation free energy barrier\n",
    "        sim_system.reactions['O2_2O'].dGa_fwd_user = sim_system.states['SRTS_O2'].get_free_energy(\n",
    "            T=sim_system.params['temperature'],\n",
    "            p=sim_system.params['pressure']) - sim_system.reactions['O2_ads'].dGrxn_user\n",
    "\n",
    "        \n",
    "        activity[iCO, iO] = sim_system.activity(tof_terms=['CO_ox'])\n"
   ]
  },
  {
   "cell_type": "code",
   "execution_count": 8,
   "metadata": {},
   "outputs": [
    {
     "data": {
      "image/png": "[encoded data removed]",
      "text/plain": [
       "<Figure size 288x216 with 2 Axes>"
      ]
     },
     "metadata": {
      "needs_background": "light"
     },
     "output_type": "display_data"
    }
   ],
   "source": [
    "import matplotlib.pyplot as plt\n",
    "\n",
    "fig, ax = plt.subplots(figsize=(4, 3))\n",
    "CS = ax.contourf(be, be, activity, levels=25, cmap=plt.get_cmap(\"RdYlBu_r\"))\n",
    "fig.colorbar(CS).ax.set_ylabel('Activity (eV)')\n",
    "ax.set(xlabel=r'$E_{\\mathsf{O}}$ (eV)', ylabel=r'$E_{\\mathsf{CO}}$ (eV)')\n",
    "fig.tight_layout()\n",
    "fig.savefig('activity.png', format='png', dpi=600)\n"
   ]
  },
  {
   "cell_type": "code",
   "execution_count": null,
   "metadata": {},
   "outputs": [],
   "source": []
  }
 ],
 "metadata": {
  "kernelspec": {
   "display_name": "Python 3",
   "language": "python",
   "name": "python3"
  },
  "language_info": {
   "codemirror_mode": {
    "name": "ipython",
    "version": 3
   },
   "file_extension": ".py",
   "mimetype": "text/x-python",
   "name": "python",
   "nbconvert_exporter": "python",
   "pygments_lexer": "ipython3",
   "version": "3.8.8"
  }
 },
 "nbformat": 4,
 "nbformat_minor": 4
}
