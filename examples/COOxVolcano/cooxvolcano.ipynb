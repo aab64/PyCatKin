{
 "cells": [
  {
   "cell_type": "markdown",
   "metadata": {},
   "source": [
    "# CO oxidation volcano"
   ]
  },
  {
   "cell_type": "markdown",
   "metadata": {},
   "source": [
    "## Load input file"
   ]
  },
  {
   "cell_type": "code",
   "execution_count": null,
   "metadata": {},
   "outputs": [],
   "source": [
    "from pycatkin.functions.load_input import read_from_input_file\n",
    "\n",
    "sim_system = read_from_input_file()\n"
   ]
  },
  {
   "cell_type": "markdown",
   "metadata": {},
   "source": [
    "## Define a range of binding energies"
   ]
  },
  {
   "cell_type": "code",
   "execution_count": null,
   "metadata": {},
   "outputs": [],
   "source": [
    "import numpy as np\n",
    "\n",
    "be = np.linspace(start=-2.5, stop=0.5, num=10, endpoint=True)\n"
   ]
  },
  {
   "cell_type": "markdown",
   "metadata": {},
   "source": [
    "## Define the standard entropies (taken from Atkins, in eV/K)"
   ]
  },
  {
   "cell_type": "code",
   "execution_count": null,
   "metadata": {},
   "outputs": [],
   "source": [
    "SCOg = 2.0487e-3\n",
    "SO2g = 2.1261e-3\n"
   ]
  },
  {
   "cell_type": "markdown",
   "metadata": {},
   "source": [
    "## Note the temperature and pressure"
   ]
  },
  {
   "cell_type": "code",
   "execution_count": null,
   "metadata": {},
   "outputs": [],
   "source": [
    "T = sim_system.params['temperature']\n",
    "p = sim_system.params['pressure']\n"
   ]
  },
  {
   "cell_type": "markdown",
   "metadata": {},
   "source": [
    "## Loop over energies and compute the activity"
   ]
  },
  {
   "cell_type": "code",
   "execution_count": null,
   "metadata": {},
   "outputs": [],
   "source": [
    "activity = np.zeros((len(be), len(be)))\n",
    "\n",
    "for iCO, ECO in enumerate(be):\n",
    "    for iO, EO in enumerate(be):\n",
    "\n",
    "        print('* Binding energy of CO is %1.2f, binding energy of O is %1.2f' % (ECO, EO))\n",
    "\n",
    "        # (a) Set CO adsorption energy and entropy\n",
    "        sim_system.reactions['CO_ads'].dErxn_user = ECO\n",
    "        sim_system.reactions['CO_ads'].dGrxn_user = ECO + SCOg * T\n",
    "\n",
    "        # (b) Set O adsorption energy and entropy\n",
    "        sim_system.reactions['2O_ads'].dErxn_user = 2.0 * EO\n",
    "        sim_system.reactions['2O_ads'].dGrxn_user = 2.0 * EO + SO2g * T\n",
    "\n",
    "        # (c) Set O2 adsorption energy and entropy\n",
    "        EO2 = sim_system.states['sO2'].get_potential_energy()\n",
    "        sim_system.reactions['O2_ads'].dErxn_user = EO2\n",
    "        sim_system.reactions['O2_ads'].dGrxn_user = EO2 + SO2g * T\n",
    "\n",
    "        # (d) Set CO oxidation barrier\n",
    "        ETS_CO_ox = sim_system.states['SRTS_ox'].get_potential_energy()\n",
    "        sim_system.reactions['CO_ox'].dEa_fwd_user = np.max((ETS_CO_ox - (ECO + EO), 0.0))\n",
    "\n",
    "        # (e) Set O2 dissociation barrier\n",
    "        ETS_O2_2O = sim_system.states['SRTS_O2'].get_potential_energy()\n",
    "        sim_system.reactions['O2_2O'].dEa_fwd_user = np.max((ETS_O2_2O - EO2, 0.0))\n",
    "\n",
    "        # Now compute and save the activity\n",
    "        activity[iCO, iO] = sim_system.activity(tof_terms=['CO_ox'])\n"
   ]
  },
  {
   "cell_type": "code",
   "execution_count": null,
   "metadata": {},
   "outputs": [],
   "source": [
    "import matplotlib.pyplot as plt\n",
    "import os\n",
    "\n",
    "if not os.path.isdir('figures'):\n",
    "    os.mkdir('figures')\n",
    "\n",
    "fig, ax = plt.subplots(figsize=(4, 3))\n",
    "CS = ax.contourf(be, be, activity, levels=25, cmap=plt.get_cmap(\"RdYlBu_r\"))\n",
    "fig.colorbar(CS).ax.set_ylabel('Activity (eV)')\n",
    "ax.set(xlabel=r'$E_{\\mathsf{O}}$ (eV)', ylabel=r'$E_{\\mathsf{CO}}$ (eV)')\n",
    "fig.tight_layout()\n",
    "fig.savefig('figures/activity.png', format='png', dpi=600)\n"
   ]
  },
  {
   "cell_type": "code",
   "execution_count": null,
   "metadata": {},
   "outputs": [],
   "source": []
  }
 ],
 "metadata": {
  "language_info": {
   "codemirror_mode": {
    "name": "ipython",
    "version": 3
   },
   "file_extension": ".py",
   "mimetype": "text/x-python",
   "name": "python",
   "nbconvert_exporter": "python",
   "pygments_lexer": "ipython3",
   "version": "3.8.8"
  }
 },
 "nbformat": 4,
 "nbformat_minor": 4
}
