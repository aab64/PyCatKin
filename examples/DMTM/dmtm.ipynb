{
 "cells": [
  {
   "cell_type": "markdown",
   "metadata": {},
   "source": [
    "# DMTM example"
   ]
  },
  {
   "cell_type": "markdown",
   "metadata": {},
   "source": [
    "## Load input file"
   ]
  },
  {
   "cell_type": "code",
   "execution_count": null,
   "metadata": {},
   "outputs": [],
   "source": [
    "from pycatkin.functions.load_input import read_from_input_file\n",
    "\n",
    "sim_system = read_from_input_file()\n"
   ]
  },
  {
   "cell_type": "markdown",
   "metadata": {},
   "source": [
    "## Draw energy landscape"
   ]
  },
  {
   "cell_type": "code",
   "execution_count": null,
   "metadata": {},
   "outputs": [],
   "source": [
    "from pycatkin.functions.presets import draw_energy_landscapes\n",
    "\n",
    "draw_energy_landscapes(sim_system=sim_system,\n",
    "                       etype='electronic',\n",
    "                       show_labels=True,\n",
    "                       fig_path='figures/')\n",
    "\n",
    "sim_system.params['temperature'] = 450\n",
    "draw_energy_landscapes(sim_system=sim_system,\n",
    "                       fig_path='figures/')\n"
   ]
  },
  {
   "cell_type": "markdown",
   "metadata": {},
   "source": [
    "## Compare energy landscapes of two systems"
   ]
  },
  {
   "cell_type": "code",
   "execution_count": null,
   "metadata": {},
   "outputs": [],
   "source": [
    "from pycatkin.functions.presets import compare_energy_landscapes\n",
    "import copy\n",
    "\n",
    "sim_system2 = copy.deepcopy(sim_system)\n",
    "sim_system2.params['temperature'] = 650\n",
    "\n",
    "sim_systems = {'450 K': sim_system,\n",
    "               '650 K': sim_system2}\n",
    "\n",
    "compare_energy_landscapes(sim_systems=sim_systems,\n",
    "                          legend_location='upper right',\n",
    "                          show_labels=True,\n",
    "                          fig_path='figures/')\n"
   ]
  },
  {
   "cell_type": "markdown",
   "metadata": {},
   "source": [
    "## Run microkinetics simulation"
   ]
  },
  {
   "cell_type": "code",
   "execution_count": null,
   "metadata": {},
   "outputs": [],
   "source": [
    "from pycatkin.functions.presets import run\n",
    "\n",
    "run(sim_system=sim_system,\n",
    "    plot_results=True,\n",
    "    save_results=True,\n",
    "    fig_path='figures/',\n",
    "    csv_path='outputs/')\n"
   ]
  },
  {
   "cell_type": "markdown",
   "metadata": {},
   "source": [
    "## Run simulations for a range of temperatures"
   ]
  },
  {
   "cell_type": "code",
   "execution_count": null,
   "metadata": {},
   "outputs": [],
   "source": [
    "from pycatkin.functions.presets import run_temperatures\n",
    "import numpy as np\n",
    "\n",
    "temperatures = np.linspace(start=400, stop=800, num=17, endpoint=True)\n",
    "run_temperatures(sim_system=sim_system,\n",
    "                 temperatures=temperatures,\n",
    "                 plot_results=True,\n",
    "                 steady_state_solve=True,\n",
    "                 save_results=True,\n",
    "                 fig_path='figures/',\n",
    "                 csv_path='outputs/')\n"
   ]
  },
  {
   "cell_type": "markdown",
   "metadata": {},
   "source": [
    "## Run simulations and compute DRC"
   ]
  },
  {
   "cell_type": "code",
   "execution_count": null,
   "metadata": {},
   "outputs": [],
   "source": [
    "tof_terms = ['r5', 'r9']\n",
    "run_temperatures(sim_system=sim_system,\n",
    "                 temperatures=temperatures,\n",
    "                 tof_terms=tof_terms,\n",
    "                 plot_results=True,\n",
    "                 steady_state_solve=True,\n",
    "                 save_results=True,\n",
    "                 fig_path='figures/',\n",
    "                 csv_path='outputs/')\n"
   ]
  },
  {
   "cell_type": "markdown",
   "metadata": {},
   "source": [
    "## Run energy span model for a range of temperatures"
   ]
  },
  {
   "cell_type": "code",
   "execution_count": null,
   "metadata": {},
   "outputs": [],
   "source": [
    "from pycatkin.functions.presets import run_energy_span_temperatures\n",
    "import numpy as np\n",
    "\n",
    "temperatures = np.linspace(start=400, stop=800, num=17, endpoint=True)\n",
    "run_energy_span_temperatures(sim_system=sim_system,\n",
    "                             temperatures=temperatures,\n",
    "                             save_results=True,\n",
    "                             csv_path='outputs/')\n"
   ]
  },
  {
   "cell_type": "markdown",
   "metadata": {},
   "source": [
    "## Save state energies"
   ]
  },
  {
   "cell_type": "code",
   "execution_count": null,
   "metadata": {},
   "outputs": [],
   "source": [
    "from pycatkin.functions.presets import save_state_energies\n",
    "\n",
    "save_state_energies(sim_system=sim_system,\n",
    "                    csv_path='outputs/')\n"
   ]
  },
  {
   "cell_type": "markdown",
   "metadata": {},
   "source": [
    "## Save reaction energies and barriers"
   ]
  },
  {
   "cell_type": "code",
   "execution_count": null,
   "metadata": {},
   "outputs": [],
   "source": [
    "from pycatkin.functions.presets import save_energies\n",
    "\n",
    "save_energies(sim_system=sim_system,\n",
    "              csv_path='outputs/')\n"
   ]
  },
  {
   "cell_type": "markdown",
   "metadata": {},
   "source": [
    "## Save reaction energies and barriers for a range of temperatures"
   ]
  },
  {
   "cell_type": "code",
   "execution_count": null,
   "metadata": {},
   "outputs": [],
   "source": [
    "from pycatkin.functions.presets import save_energies_temperatures\n",
    "import numpy as np\n",
    "\n",
    "temperatures = np.linspace(start=400, stop=800, num=17, endpoint=True)\n",
    "save_energies_temperatures(sim_system=sim_system,\n",
    "                           temperatures=temperatures,\n",
    "                           csv_path='outputs/')\n"
   ]
  }
 ],
 "metadata": {
  "kernelspec": {
   "display_name": "Python 3",
   "language": "python",
   "name": "python3"
  },
  "language_info": {
   "codemirror_mode": {
    "name": "ipython",
    "version": 3
   },
   "file_extension": ".py",
   "mimetype": "text/x-python",
   "name": "python",
   "nbconvert_exporter": "python",
   "pygments_lexer": "ipython3",
   "version": "3.8.8"
  }
 },
 "nbformat": 4,
 "nbformat_minor": 4
}
