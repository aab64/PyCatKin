{
 "cells": [
  {
   "cell_type": "markdown",
   "metadata": {},
   "source": [
    "# CO oxidation in a CSTR"
   ]
  },
  {
   "cell_type": "markdown",
   "metadata": {},
   "source": [
    "## Load input files"
   ]
  },
  {
   "cell_type": "code",
   "execution_count": 1,
   "metadata": {},
   "outputs": [
    {
     "name": "stdout",
     "output_type": "stream",
     "text": [
      "Loading input file: input_AuPd.json.\n",
      "Reading states:\n",
      "* s\n",
      "* sCO\n",
      "* sO\n",
      "* CO\n",
      "* O2\n",
      "* CO2\n",
      "Reading scaling relation states:\n",
      "* SRTS\n",
      "Reading system:\n",
      "* Pressure: 100000 Pa\n",
      "* Temperature: 423 K\n",
      "Reading reactions:\n",
      "* CO_ads\n",
      "* O2_ads\n",
      "* CO_ox\n",
      "Reading reactor:\n",
      "* CSTReactor\n",
      "Done.\n",
      "Loading input file: input_Pd111.json.\n",
      "Reading states:\n",
      "* s\n",
      "* sCO\n",
      "* sO\n",
      "* CO\n",
      "* O2\n",
      "* CO2\n",
      "Reading scaling relation states:\n",
      "* SRTS\n",
      "Reading system:\n",
      "* Pressure: 100000 Pa\n",
      "* Temperature: 423 K\n",
      "Reading reactions:\n",
      "* CO_ads\n",
      "* O2_ads\n",
      "* CO_ox\n",
      "Reading reactor:\n",
      "* CSTReactor\n",
      "Done.\n"
     ]
    }
   ],
   "source": [
    "from pycatkin.functions.load_input import read_from_input_file\n",
    "\n",
    "sim_system_Au = read_from_input_file(input_path='input_AuPd.json')\n",
    "sim_system_Pd = read_from_input_file(input_path='input_Pd111.json')\n"
   ]
  },
  {
   "cell_type": "markdown",
   "metadata": {},
   "source": [
    "## View the states using ASE"
   ]
  },
  {
   "cell_type": "code",
   "execution_count": 2,
   "metadata": {},
   "outputs": [
    {
     "name": "stdout",
     "output_type": "stream",
     "text": [
      "Directory does not exist. Will try creating it...\n",
      "Scaling state SRTS has no atoms to view.\n"
     ]
    }
   ],
   "source": [
    "from pycatkin.functions.presets import draw_states\n",
    "import os\n",
    "\n",
    "if not os.path.isdir('figures'):\n",
    "    os.mkdir('figures')\n",
    "\n",
    "draw_states(sim_system=sim_system_Au,\n",
    "            fig_path='figures/AuPd/')  # rotation='-90x'\n"
   ]
  },
  {
   "cell_type": "markdown",
   "metadata": {},
   "source": [
    "## Save the states in proteindatabank (.pdb) format"
   ]
  },
  {
   "cell_type": "code",
   "execution_count": 3,
   "metadata": {},
   "outputs": [
    {
     "name": "stdout",
     "output_type": "stream",
     "text": [
      "Directory does not exist. Will try creating it...\n"
     ]
    }
   ],
   "source": [
    "import os\n",
    "\n",
    "if not os.path.isdir('figures'):\n",
    "    os.mkdir('figures')\n",
    "\n",
    "for s in sim_system_Pd.snames:\n",
    "    if sim_system_Pd.states[s].state_type != 'TS':\n",
    "        sim_system_Pd.states[s].save_pdb(path='figures/Pd111/')\n"
   ]
  },
  {
   "cell_type": "markdown",
   "metadata": {},
   "source": [
    "## Run simulations for a range of temperatures"
   ]
  },
  {
   "cell_type": "code",
   "execution_count": 4,
   "metadata": {},
   "outputs": [
    {
     "name": "stdout",
     "output_type": "stream",
     "text": [
      "Running simulations for T in [423.0 K, 623.0 K]...\n",
      "* 423 K done\n",
      "* 434 K done\n",
      "* 444 K done\n",
      "* 455 K done\n",
      "* 465 K done\n",
      "* 476 K done\n",
      "* 486 K done\n",
      "* 497 K done\n",
      "* 507 K done\n",
      "* 518 K done\n",
      "* 528 K done\n",
      "* 539 K done\n",
      "* 549 K done\n",
      "* 560 K done\n",
      "* 570 K done\n",
      "* 581 K done\n",
      "* 591 K done\n",
      "* 602 K done\n",
      "* 612 K done\n",
      "* 623 K done\n",
      "Directory does not exist. Will try creating it...\n",
      "Running simulations for T in [423.0 K, 623.0 K]...\n",
      "* 423 K done\n",
      "* 434 K done\n",
      "* 444 K done\n",
      "* 455 K done\n",
      "* 465 K done\n",
      "* 476 K done\n",
      "* 486 K done\n",
      "* 497 K done\n",
      "* 507 K done\n",
      "* 518 K done\n",
      "* 528 K done\n",
      "* 539 K done\n",
      "* 549 K done\n",
      "* 560 K done\n",
      "* 570 K done\n",
      "* 581 K done\n",
      "* 591 K done\n",
      "* 602 K done\n",
      "* 612 K done\n",
      "* 623 K done\n",
      "Directory does not exist. Will try creating it...\n"
     ]
    }
   ],
   "source": [
    "from pycatkin.functions.presets import run_temperatures\n",
    "import os\n",
    "import numpy as np\n",
    "\n",
    "if not os.path.isdir('outputs'):\n",
    "    os.mkdir('outputs')\n",
    "\n",
    "temperatures = np.linspace(start=423, stop=623, num=20, endpoint=True)\n",
    "\n",
    "for sysname, sim_system in [['AuPd', sim_system_Au], ['Pd111', sim_system_Pd]]:\n",
    "    run_temperatures(sim_system=sim_system,\n",
    "                     temperatures=temperatures,\n",
    "                     steady_state_solve=True,\n",
    "                     plot_results=False,\n",
    "                     save_results=True,\n",
    "                     fig_path='figures/%s/' % sysname,\n",
    "                     csv_path='outputs/%s/' % sysname)\n"
   ]
  },
  {
   "cell_type": "markdown",
   "metadata": {},
   "source": [
    "## Compute and plot conversion across the reactor"
   ]
  },
  {
   "cell_type": "code",
   "execution_count": 5,
   "metadata": {},
   "outputs": [
    {
     "name": "stderr",
     "output_type": "stream",
     "text": [
      "d:\\users\\astrid\\dropbox\\chalmers\\simulations\\microkinetics\\pycatkin\\pycatkin\\functions\\presets.py:556: UserWarning: Tight layout not applied. The left and right margins cannot be made large enough to accommodate all axes decorations. \n",
      "  fig.tight_layout()\n"
     ]
    },
    {
     "data": {
      "image/png": "[encoded data removed]",
      "text/plain": [
       "<Figure size 230.4x230.4 with 1 Axes>"
      ]
     },
     "metadata": {
      "needs_background": "light"
     },
     "output_type": "display_data"
    }
   ],
   "source": [
    "from pycatkin.functions.presets import plot_data_simple\n",
    "import os\n",
    "import pandas as pd\n",
    "\n",
    "fig, ax = None, None\n",
    "if not os.path.isdir('figures'):\n",
    "    os.mkdir('figures')\n",
    "\n",
    "for sysname, sim_system in [['AuPd', sim_system_Au], ['Pd111', sim_system_Pd]]:\n",
    "\n",
    "    df = pd.read_csv(filepath_or_buffer='outputs/%s/pressures_vs_temperature.csv' % sysname)\n",
    "\n",
    "    pCOin = sim_system_Pd.params['inflow_state']['CO']\n",
    "    pCOout = df['pCO (bar)'].values\n",
    "    xCO = 100.0 * (1.0 - pCOout / pCOin)\n",
    "\n",
    "    fig, ax = plot_data_simple(fig=fig,\n",
    "                               ax=ax,\n",
    "                               xdata=temperatures,\n",
    "                               ydata=xCO,\n",
    "                               xlabel='Temperature (K)',\n",
    "                               ylabel='Conversion (%)',\n",
    "                               label=sysname,\n",
    "                               addlegend=True,\n",
    "                               color='teal' if sysname == 'Pd111' else 'salmon',\n",
    "                               fig_path='figures/',\n",
    "                               fig_name='conversion')\n"
   ]
  }
 ],
 "metadata": {
  "kernelspec": {
   "display_name": "Python 3",
   "language": "python",
   "name": "python3"
  },
  "language_info": {
   "codemirror_mode": {
    "name": "ipython",
    "version": 3
   },
   "file_extension": ".py",
   "mimetype": "text/x-python",
   "name": "python",
   "nbconvert_exporter": "python",
   "pygments_lexer": "ipython3",
   "version": "3.8.8"
  }
 },
 "nbformat": 4,
 "nbformat_minor": 4
}
