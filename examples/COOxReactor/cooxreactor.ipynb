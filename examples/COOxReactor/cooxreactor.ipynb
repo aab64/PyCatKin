{
 "cells": [
  {
   "cell_type": "markdown",
   "metadata": {},
   "source": [
    "# CO oxidation in a CSTR"
   ]
  },
  {
   "cell_type": "markdown",
   "metadata": {},
   "source": [
    "## Load input files"
   ]
  },
  {
   "cell_type": "code",
   "execution_count": null,
   "metadata": {},
   "outputs": [],
   "source": [
    "from pycatkin.functions.load_input import read_from_input_file\n",
    "\n",
    "sim_system_Au = read_from_input_file(input_path='input_AuPd.json')\n",
    "sim_system_Pd = read_from_input_file(input_path='input_Pd111.json')\n"
   ]
  },
  {
   "cell_type": "markdown",
   "metadata": {},
   "source": [
    "## View the states using ASE"
   ]
  },
  {
   "cell_type": "code",
   "execution_count": null,
   "metadata": {},
   "outputs": [],
   "source": [
    "from pycatkin.functions.presets import draw_states\n",
    "import os\n",
    "\n",
    "if not os.path.isdir('figures'):\n",
    "    os.mkdir('figures')\n",
    "\n",
    "draw_states(sim_system=sim_system_Au,\n",
    "            fig_path='figures/AuPd/')  # rotation='-90x'\n"
   ]
  },
  {
   "cell_type": "markdown",
   "metadata": {},
   "source": [
    "## Save the states in proteindatabank (.pdb) format"
   ]
  },
  {
   "cell_type": "code",
   "execution_count": null,
   "metadata": {},
   "outputs": [],
   "source": [
    "import os\n",
    "\n",
    "if not os.path.isdir('figures'):\n",
    "    os.mkdir('figures')\n",
    "\n",
    "for s in sim_system_Pd.snames:\n",
    "    if sim_system_Pd.states[s].state_type != 'TS':\n",
    "        sim_system_Pd.states[s].save_pdb(path='figures/Pd111/')\n"
   ]
  },
  {
   "cell_type": "markdown",
   "metadata": {},
   "source": [
    "## Run simulations for a range of temperatures"
   ]
  },
  {
   "cell_type": "code",
   "execution_count": null,
   "metadata": {},
   "outputs": [],
   "source": [
    "from pycatkin.functions.presets import run_temperatures\n",
    "import os\n",
    "import numpy as np\n",
    "\n",
    "if not os.path.isdir('outputs'):\n",
    "    os.mkdir('outputs')\n",
    "\n",
    "temperatures = np.linspace(start=423, stop=623, num=20, endpoint=True)\n",
    "\n",
    "for sysname, sim_system in [['AuPd', sim_system_Au], ['Pd111', sim_system_Pd]]:\n",
    "    run_temperatures(sim_system=sim_system,\n",
    "                     temperatures=temperatures,\n",
    "                     steady_state_solve=True,\n",
    "                     plot_results=False,\n",
    "                     save_results=True,\n",
    "                     fig_path='figures/%s/' % sysname,\n",
    "                     csv_path='outputs/%s/' % sysname)\n"
   ]
  },
  {
   "cell_type": "markdown",
   "metadata": {},
   "source": [
    "## Compute and plot conversion across the reactor"
   ]
  },
  {
   "cell_type": "code",
   "execution_count": null,
   "metadata": {},
   "outputs": [],
   "source": [
    "from pycatkin.functions.presets import plot_data_simple\n",
    "import os\n",
    "import pandas as pd\n",
    "\n",
    "fig, ax = None, None\n",
    "if not os.path.isdir('figures'):\n",
    "    os.mkdir('figures')\n",
    "\n",
    "for sysname, sim_system in [['AuPd', sim_system_Au], ['Pd111', sim_system_Pd]]:\n",
    "\n",
    "    df = pd.read_csv(filepath_or_buffer='outputs/%s/pressures_vs_temperature.csv' % sysname)\n",
    "\n",
    "    pCOin = sim_system_Pd.params['inflow_state']['CO']\n",
    "    pCOout = df['pCO (bar)'].values\n",
    "    xCO = 100.0 * (1.0 - pCOout / pCOin)\n",
    "\n",
    "    fig, ax = plot_data_simple(fig=fig,\n",
    "                               ax=ax,\n",
    "                               xdata=temperatures,\n",
    "                               ydata=xCO,\n",
    "                               xlabel='Temperature (K)',\n",
    "                               ylabel='Conversion (%)',\n",
    "                               label=sysname,\n",
    "                               addlegend=True,\n",
    "                               color='teal' if sysname == 'Pd111' else 'salmon',\n",
    "                               fig_path='figures/',\n",
    "                               fig_name='conversion')\n"
   ]
  },
  {
   "cell_type": "code",
   "execution_count": null,
   "metadata": {},
   "outputs": [],
   "source": []
  }
 ],
 "metadata": {
  "language_info": {
   "codemirror_mode": {
    "name": "ipython",
    "version": 3
   },
   "file_extension": ".py",
   "mimetype": "text/x-python",
   "name": "python",
   "nbconvert_exporter": "python",
   "pygments_lexer": "ipython3",
   "version": "3.8.8"
  }
 },
 "nbformat": 4,
 "nbformat_minor": 4
}
